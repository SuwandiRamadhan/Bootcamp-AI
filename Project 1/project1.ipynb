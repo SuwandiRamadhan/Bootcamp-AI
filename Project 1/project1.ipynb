{
 "cells": [
  {
   "cell_type": "markdown",
   "id": "dfa497c5",
   "metadata": {},
   "source": [
    "# Sentiment Analysis Poltik Indonesia"
   ]
  },
  {
   "cell_type": "markdown",
   "id": "f8072d7b",
   "metadata": {},
   "source": [
    "## 1. Data Understanding"
   ]
  },
  {
   "cell_type": "markdown",
   "id": "1c8bdae7",
   "metadata": {},
   "source": [
    "### 1.1 Deskripsi Dataset\n",
    "- 🌎 **Sumber Dataset** : https://drive.google.com/file/d/1XEsFtXjyhKe-q3Muey-NxeSvoavuwj3B/view?usp=drive_link\n",
    "- 📐 **Ukuran Dataset** : <strong>3</strong> fitur/kolom dan <strong>1.814</strong> baris data\n",
    "- 🧩 **Fitur/Variabel** :\n",
    "`unnamed`  : Kolom indeks (tidak relevan untuk analysis)\n",
    "`sentimen` : Label sentimen (`netral`, `negatif`, `positif`)\n",
    "`tweet`    : Teks tweet (campuran formal, informal, dan slang)"
   ]
  },
  {
   "cell_type": "markdown",
   "id": "10f2cf28",
   "metadata": {},
   "source": [
    "### 1.2 Contoh Data\n",
    "| sentimen | tweet |\n",
    "|----------|-------|\n",
    "|`netral`|Di era Jokowi, ekonomi Indonesia semakin baik. #01IndonesiaMaju #JokowiLagi #JokowiMenangTotalDebat pic.twitter.com/W2ythnxsTp|\n",
    "|`negatif`|Kata @prabowo Indonesia tidak dihargai bangsa asing!   Berita ini ðŸ‘‡ pasti hoax buatan penguasa, ya kan @rockygerung?ðŸ˜œ https://twitter.com/mediaindonesia/status/1117575436337160192?s=21Â â€¦|\n",
    "|`positif`|Masa tenang msih ngoceh aja..ttp jokowi harga mati...|"
   ]
  },
  {
   "cell_type": "markdown",
   "id": "d3770433",
   "metadata": {},
   "source": [
    "### 1.3 Karakteristik Data\n",
    "#### **Linguistik**\n",
    "- 📖 **Bahasa** : Indonesia (Campuran formal, informal, dan slang)\n",
    "- ☢️ **Noise** : <br>- Karakter Khusus <br>- Mention <br>- URL <br>- Hastag\n",
    "- 🤟**Slang/Kata tidak baku**\n",
    "\n",
    "#### **Sentimen**\n",
    "- ✔️ `netral` : Berisi pendapat netral terhadap pemerintahan/bakal calon presiden\n",
    "- ➖ `negatif` : Berisi kritik/sindiran terhadap pemerintahan/bakal calon presiden\n",
    "- ➕ `positif` :  Berisi pujian/dukungan terhadap pemerintah/bakal calon presiden"
   ]
  },
  {
   "cell_type": "markdown",
   "id": "84c9c20e",
   "metadata": {},
   "source": [
    "### 1.4 Tantangan Data\n",
    "1. **Ketidakseimbangan Jumlah Fitur** <br>Adanya dominasi kelas tertentu (misal: `netral`)\n",
    "2. **Kontekstual** <br>Misalkan seperti kata <strong>jokowi</strong> bisa memiliki makna `netral`, `negatif`, ataupun `positif`.\n",
    "3. **Noise Tinggi** <br>Karakter tidak terbaca, typo, dan slang.\n",
    "4. **Ambiguitas**"
   ]
  },
  {
   "cell_type": "markdown",
   "id": "40dc86c9",
   "metadata": {},
   "source": [
    "## 2. Algoritma Understanding"
   ]
  },
  {
   "cell_type": "markdown",
   "id": "a0490d50",
   "metadata": {},
   "source": [
    "### 2.1 Preprocessing Algorithms\n",
    "- Regular Expressions (<strong>Regex</strong>) <br>\n",
    "&emsp;Untuk membersihkan noise dari text seperti mention, URL, dan karakter non-ASCII\n",
    "- Stopwords (<strong>Sastrawi</strong>) <br>\n",
    "&emsp;Library sastrawi dipilih untuk digunakan karena dataset yang akan dianalisis menggunakan bahasa indonesia dan libary yang umum digunakan adalah sasstrawi\n",
    "- Stemming (<strong>Sastrawi</strong>) <br>\n",
    "&emsp;Sama seperti stopwords karena menggunakan bahasa indonesia jadi library yang digunakan adalah <strong>Sastrawi</strong>. Mengapa tidak lematization? karena kalau lematization mengacu pada kamus sedangkan jika dilihat dari dataset banyak menggunakan kata informal dan slang.\n",
    "- Text Tokenization (<strong>Word Tokenization</strong>) <br>\n",
    "&emsp;Text tokenization yang digunakan adalah <strong>Word Tokenization</strong> karena data di dalam fitur relatif pendek dan cocok menggunakan <strong>Word Tokenization</strong>.\n",
    "- Text Vektorization (<strong>TF-IDF</strong>) <br>\n",
    "&emsp;Menggunakan Frequency Based khususnya TF-IDF karena kita menghitung frekunsi kemunculan fitur untuk melihat sentiment dari dataset tweetnya. "
   ]
  },
  {
   "cell_type": "code",
   "execution_count": null,
   "id": "383fc1db",
   "metadata": {},
   "outputs": [],
   "source": []
  }
 ],
 "metadata": {
  "kernelspec": {
   "display_name": "base",
   "language": "python",
   "name": "python3"
  },
  "language_info": {
   "name": "python",
   "version": "3.12.7"
  }
 },
 "nbformat": 4,
 "nbformat_minor": 5
}
