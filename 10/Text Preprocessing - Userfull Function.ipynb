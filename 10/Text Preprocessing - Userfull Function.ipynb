{
 "cells": [
  {
   "cell_type": "markdown",
   "id": "89d04cf1",
   "metadata": {},
   "source": [
    "## Text Extraction"
   ]
  },
  {
   "cell_type": "markdown",
   "id": "569e73e9",
   "metadata": {},
   "source": [
    "### HTML"
   ]
  },
  {
   "cell_type": "code",
   "execution_count": 1,
   "id": "e99446e0",
   "metadata": {},
   "outputs": [],
   "source": [
    "html_text = \"<html><body><h1>Hello, World!\\nHello you!</h1></body></html>\""
   ]
  },
  {
   "cell_type": "code",
   "execution_count": 2,
   "id": "7719dab8",
   "metadata": {},
   "outputs": [],
   "source": [
    "from bs4 import BeautifulSoup    # Untuk HTML pharse\n",
    "def extract_from_html_using_parser(html_text):\n",
    "\n",
    "    # Menggunakan library BeautifulSoup untuk ekstraksi teks dari HTML\n",
    "    soup = BeautifulSoup(html_text, 'html.parser')\n",
    "    extracted_text = soup.get_text()\n",
    "    return extracted_text"
   ]
  },
  {
   "cell_type": "code",
   "execution_count": 4,
   "id": "2333c547",
   "metadata": {},
   "outputs": [
    {
     "data": {
      "text/plain": [
       "'Hello, World!\\nHello you!'"
      ]
     },
     "metadata": {},
     "output_type": "display_data"
    }
   ],
   "source": [
    "html_parser_result = extract_from_html_using_parser(html_text)\n",
    "display(html_parser_result)\n",
    "\n",
    "# Jadi dia menghilangkan tag HTML dan hanya menampilkan teks yang ada di dalamnya"
   ]
  },
  {
   "cell_type": "code",
   "execution_count": null,
   "id": "2ccb64ce",
   "metadata": {},
   "outputs": [],
   "source": [
    "import re\n",
    "\n",
    "def get_word_only(text):\n",
    "\n",
    "    # Menggunakan RegEx untuk menghapus karakter non-kata seperti tanda baca dan angka\n",
    "    cleaned_text = re.sub(r'[^\\w\\s]', '', text)  # Kalau kita masukkan itu berarti dia hanya mengambil yang ada di \\w\\s aja \n",
    "\n",
    "    # Menggunakan split() untuk memisahkan kata-kata berdasarkan spasi\n",
    "    words = cleaned_text.split()\n",
    "    return words"
   ]
  },
  {
   "cell_type": "code",
   "execution_count": 8,
   "id": "b8e042f2",
   "metadata": {},
   "outputs": [
    {
     "data": {
      "text/plain": [
       "['htmlbodyh1Hello', 'World', 'Hello', 'youh1bodyhtml']"
      ]
     },
     "metadata": {},
     "output_type": "display_data"
    }
   ],
   "source": [
    "only_extract_text = get_word_only(html_text)\n",
    "display(only_extract_text)\n",
    "\n",
    "# Jadi output yang dihasilkan hanya berisi kata-kata yang ada di dalam teks HTMLnya dan menghilangkan karakter lain yang bukan kata-kata"
   ]
  },
  {
   "cell_type": "code",
   "execution_count": null,
   "id": "739fa7e2",
   "metadata": {},
   "outputs": [],
   "source": []
  }
 ],
 "metadata": {
  "kernelspec": {
   "display_name": "base",
   "language": "python",
   "name": "python3"
  },
  "language_info": {
   "codemirror_mode": {
    "name": "ipython",
    "version": 3
   },
   "file_extension": ".py",
   "mimetype": "text/x-python",
   "name": "python",
   "nbconvert_exporter": "python",
   "pygments_lexer": "ipython3",
   "version": "3.12.7"
  }
 },
 "nbformat": 4,
 "nbformat_minor": 5
}
