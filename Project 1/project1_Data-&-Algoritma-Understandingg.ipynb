{
 "cells": [
  {
   "cell_type": "markdown",
   "id": "dfa497c5",
   "metadata": {},
   "source": [
    "# Sentiment Analysis Poltik Indonesia"
   ]
  },
  {
   "cell_type": "markdown",
   "id": "af7cca4c",
   "metadata": {},
   "source": [
    "# Data & Algoritma Understanding"
   ]
  },
  {
   "cell_type": "markdown",
   "id": "f8072d7b",
   "metadata": {},
   "source": [
    "## 1. Data Understanding"
   ]
  },
  {
   "cell_type": "markdown",
   "id": "1c8bdae7",
   "metadata": {},
   "source": [
    "### 1.1 Deskripsi Dataset\n",
    "- 🌎 **Sumber Dataset** : https://drive.google.com/file/d/1XEsFtXjyhKe-q3Muey-NxeSvoavuwj3B/view?usp=drive_link\n",
    "- 📐 **Ukuran Dataset** : <strong>3</strong> fitur/kolom dan <strong>1.814</strong> baris data\n",
    "- 🧩 **Fitur/Variabel** :\n",
    "<br>`unnamed:0`  : Kolom indeks (tidak relevan untuk analysis)\n",
    "<br>`sentimen` : Label sentimen (`netral`, `negatif`, `positif`)\n",
    "<br>`tweet`    : Teks tweet (campuran formal, informal, dan slang)"
   ]
  },
  {
   "cell_type": "markdown",
   "id": "10f2cf28",
   "metadata": {},
   "source": [
    "### 1.2 Contoh Data\n",
    "| sentimen | tweet |\n",
    "|----------|-------|\n",
    "|`netral`|Di era Jokowi, ekonomi Indonesia semakin baik. #01IndonesiaMaju #JokowiLagi #JokowiMenangTotalDebat pic.twitter.com/W2ythnxsTp|\n",
    "|`negatif`|Kata @prabowo Indonesia tidak dihargai bangsa asing!   Berita ini ðŸ‘‡ pasti hoax buatan penguasa, ya kan @rockygerung?ðŸ˜œ https://twitter.com/mediaindonesia/status/1117575436337160192?s=21Â â€¦|\n",
    "|`positif`|Masa tenang msih ngoceh aja..ttp jokowi harga mati...|"
   ]
  },
  {
   "cell_type": "markdown",
   "id": "d3770433",
   "metadata": {},
   "source": [
    "### 1.3 Karakteristik Data\n",
    "#### **Linguistik**\n",
    "- 📖 **Bahasa** : Indonesia (Campuran formal, informal, dan slang)\n",
    "- ☢️ **Noise** : <br>- Karakter Khusus <br>- Mention <br>- URL <br>- Hastag\n",
    "- 🤟**Slang/Kata tidak baku**\n",
    "\n",
    "#### **Sentimen**\n",
    "- ✔️ `netral` : Berisi pendapat netral terhadap pemerintahan/bakal calon presiden\n",
    "- ➖ `negatif` : Berisi kritik/sindiran terhadap pemerintahan/bakal calon presiden\n",
    "- ➕ `positif` :  Berisi pujian/dukungan terhadap pemerintah/bakal calon presiden"
   ]
  },
  {
   "cell_type": "markdown",
   "id": "84c9c20e",
   "metadata": {},
   "source": [
    "### 1.4 Tantangan Data\n",
    "1. **Ketidakseimbangan Jumlah Fitur** <br>Adanya dominasi kelas tertentu (misal: `netral`)\n",
    "2. **Kontekstual** <br>Misalkan seperti kata <strong>jokowi</strong> bisa memiliki makna `netral`, `negatif`, ataupun `positif`.\n",
    "3. **Noise Tinggi** <br>Karakter tidak terbaca, typo, dan slang.\n",
    "4. **Ambiguitas**"
   ]
  },
  {
   "cell_type": "markdown",
   "id": "40dc86c9",
   "metadata": {},
   "source": [
    "## 2. Algoritma Understanding"
   ]
  },
  {
   "cell_type": "markdown",
   "id": "a0490d50",
   "metadata": {},
   "source": [
    "### 2.1 Preprocessing Algorithms\n",
    "- Regular Expressions (<strong>Regex</strong>) <br>\n",
    "&emsp;Untuk membersihkan noise dari text seperti mention, URL, dan karakter non-ASCII\n",
    "- Stopwords (<strong>NLTK</strong>) <br>\n",
    "&emsp;Library sastrawi dipilih untuk digunakan karena dataset yang akan dianalisis menggunakan bahasa indonesia dan libary yang umum digunakan adalah sasstrawi\n",
    "- Stemming (<strong>Sastrawi</strong>) <br>\n",
    "&emsp;Sama seperti stopwords karena menggunakan bahasa indonesia jadi library yang digunakan adalah <strong>Sastrawi</strong>. Mengapa tidak lematization? karena kalau lematization mengacu pada kamus sedangkan jika dilihat dari dataset banyak menggunakan kata informal dan slang.\n",
    "- Text Tokenization (<strong>Word Tokenization</strong>) <br>\n",
    "&emsp;Text tokenization yang digunakan adalah <strong>Word Tokenization</strong> karena data di dalam fitur relatif pendek dan cocok menggunakan <strong>Word Tokenization</strong>.\n",
    "- Text Vektorization (<strong>TF-IDF</strong>) <br>\n",
    "&emsp;Menggunakan Frequency Based khususnya TF-IDF karena kita menghitung frekunsi kemunculan fitur untuk melihat sentiment dari dataset tweetnya. "
   ]
  },
  {
   "cell_type": "markdown",
   "id": "383fc1db",
   "metadata": {},
   "source": [
    "## 3. Text Preprocessing"
   ]
  },
  {
   "cell_type": "markdown",
   "id": "124d35f1",
   "metadata": {},
   "source": [
    "#### Load Dataset"
   ]
  },
  {
   "cell_type": "code",
   "execution_count": 29,
   "id": "5b7b8d1a",
   "metadata": {},
   "outputs": [],
   "source": [
    "import pandas as pd\n",
    "\n",
    "df = pd.read_csv('./tweet.csv')"
   ]
  },
  {
   "cell_type": "markdown",
   "id": "87e7a2b7",
   "metadata": {},
   "source": [
    "#### 3.1 Informasi Dataset"
   ]
  },
  {
   "cell_type": "markdown",
   "id": "726890e9",
   "metadata": {},
   "source": [
    "- Melihat 5 data teratas di dataset"
   ]
  },
  {
   "cell_type": "code",
   "execution_count": 30,
   "id": "70adb8e1",
   "metadata": {},
   "outputs": [
    {
     "data": {
      "text/html": [
       "<div>\n",
       "<style scoped>\n",
       "    .dataframe tbody tr th:only-of-type {\n",
       "        vertical-align: middle;\n",
       "    }\n",
       "\n",
       "    .dataframe tbody tr th {\n",
       "        vertical-align: top;\n",
       "    }\n",
       "\n",
       "    .dataframe thead th {\n",
       "        text-align: right;\n",
       "    }\n",
       "</style>\n",
       "<table border=\"1\" class=\"dataframe\">\n",
       "  <thead>\n",
       "    <tr style=\"text-align: right;\">\n",
       "      <th></th>\n",
       "      <th>Unnamed: 0</th>\n",
       "      <th>sentimen</th>\n",
       "      <th>tweet</th>\n",
       "    </tr>\n",
       "  </thead>\n",
       "  <tbody>\n",
       "    <tr>\n",
       "      <th>0</th>\n",
       "      <td>0</td>\n",
       "      <td>negatif</td>\n",
       "      <td>Kata @prabowo Indonesia tidak dihargai bangsa ...</td>\n",
       "    </tr>\n",
       "    <tr>\n",
       "      <th>1</th>\n",
       "      <td>1</td>\n",
       "      <td>netral</td>\n",
       "      <td>Batuan Langka, Tasbih Jokowi Hadiah dari Habib...</td>\n",
       "    </tr>\n",
       "    <tr>\n",
       "      <th>2</th>\n",
       "      <td>2</td>\n",
       "      <td>netral</td>\n",
       "      <td>Di era Jokowi, ekonomi Indonesia semakin baik....</td>\n",
       "    </tr>\n",
       "    <tr>\n",
       "      <th>3</th>\n",
       "      <td>3</td>\n",
       "      <td>positif</td>\n",
       "      <td>Bagi Sumatera Selatan, Asian Games berdampak p...</td>\n",
       "    </tr>\n",
       "    <tr>\n",
       "      <th>4</th>\n",
       "      <td>4</td>\n",
       "      <td>negatif</td>\n",
       "      <td>Negara kita ngutang buat bngun infrastruktur y...</td>\n",
       "    </tr>\n",
       "  </tbody>\n",
       "</table>\n",
       "</div>"
      ],
      "text/plain": [
       "   Unnamed: 0 sentimen                                              tweet\n",
       "0           0  negatif  Kata @prabowo Indonesia tidak dihargai bangsa ...\n",
       "1           1   netral  Batuan Langka, Tasbih Jokowi Hadiah dari Habib...\n",
       "2           2   netral  Di era Jokowi, ekonomi Indonesia semakin baik....\n",
       "3           3  positif  Bagi Sumatera Selatan, Asian Games berdampak p...\n",
       "4           4  negatif  Negara kita ngutang buat bngun infrastruktur y..."
      ]
     },
     "execution_count": 30,
     "metadata": {},
     "output_type": "execute_result"
    }
   ],
   "source": [
    "df.head()"
   ]
  },
  {
   "cell_type": "markdown",
   "id": "eda2ceb4",
   "metadata": {},
   "source": [
    "- Melihat apakah ada nilai yang NULL di setiap fitur/kolom."
   ]
  },
  {
   "cell_type": "code",
   "execution_count": 31,
   "id": "ac9a66ed",
   "metadata": {},
   "outputs": [
    {
     "name": "stdout",
     "output_type": "stream",
     "text": [
      "<class 'pandas.core.frame.DataFrame'>\n",
      "RangeIndex: 1815 entries, 0 to 1814\n",
      "Data columns (total 3 columns):\n",
      " #   Column      Non-Null Count  Dtype \n",
      "---  ------      --------------  ----- \n",
      " 0   Unnamed: 0  1815 non-null   int64 \n",
      " 1   sentimen    1815 non-null   object\n",
      " 2   tweet       1815 non-null   object\n",
      "dtypes: int64(1), object(2)\n",
      "memory usage: 42.7+ KB\n"
     ]
    }
   ],
   "source": [
    "df.info()"
   ]
  },
  {
   "cell_type": "markdown",
   "id": "4d693dc3",
   "metadata": {},
   "source": [
    "- Melihat statistik deskriptif dataset"
   ]
  },
  {
   "cell_type": "code",
   "execution_count": 32,
   "id": "f1c9bdfb",
   "metadata": {},
   "outputs": [
    {
     "data": {
      "text/html": [
       "<div>\n",
       "<style scoped>\n",
       "    .dataframe tbody tr th:only-of-type {\n",
       "        vertical-align: middle;\n",
       "    }\n",
       "\n",
       "    .dataframe tbody tr th {\n",
       "        vertical-align: top;\n",
       "    }\n",
       "\n",
       "    .dataframe thead th {\n",
       "        text-align: right;\n",
       "    }\n",
       "</style>\n",
       "<table border=\"1\" class=\"dataframe\">\n",
       "  <thead>\n",
       "    <tr style=\"text-align: right;\">\n",
       "      <th></th>\n",
       "      <th>Unnamed: 0</th>\n",
       "    </tr>\n",
       "  </thead>\n",
       "  <tbody>\n",
       "    <tr>\n",
       "      <th>count</th>\n",
       "      <td>1815.000000</td>\n",
       "    </tr>\n",
       "    <tr>\n",
       "      <th>mean</th>\n",
       "      <td>907.000000</td>\n",
       "    </tr>\n",
       "    <tr>\n",
       "      <th>std</th>\n",
       "      <td>524.089687</td>\n",
       "    </tr>\n",
       "    <tr>\n",
       "      <th>min</th>\n",
       "      <td>0.000000</td>\n",
       "    </tr>\n",
       "    <tr>\n",
       "      <th>25%</th>\n",
       "      <td>453.500000</td>\n",
       "    </tr>\n",
       "    <tr>\n",
       "      <th>50%</th>\n",
       "      <td>907.000000</td>\n",
       "    </tr>\n",
       "    <tr>\n",
       "      <th>75%</th>\n",
       "      <td>1360.500000</td>\n",
       "    </tr>\n",
       "    <tr>\n",
       "      <th>max</th>\n",
       "      <td>1814.000000</td>\n",
       "    </tr>\n",
       "  </tbody>\n",
       "</table>\n",
       "</div>"
      ],
      "text/plain": [
       "        Unnamed: 0\n",
       "count  1815.000000\n",
       "mean    907.000000\n",
       "std     524.089687\n",
       "min       0.000000\n",
       "25%     453.500000\n",
       "50%     907.000000\n",
       "75%    1360.500000\n",
       "max    1814.000000"
      ]
     },
     "execution_count": 32,
     "metadata": {},
     "output_type": "execute_result"
    }
   ],
   "source": [
    "df.describe()"
   ]
  },
  {
   "cell_type": "markdown",
   "id": "9fcf2ef5",
   "metadata": {},
   "source": [
    "- Melihat distribusi sentimen"
   ]
  },
  {
   "cell_type": "code",
   "execution_count": 33,
   "id": "c2ca0cb7",
   "metadata": {},
   "outputs": [
    {
     "data": {
      "text/plain": [
       "Text(0.5, 1.0, 'Distribusi Sentimen')"
      ]
     },
     "execution_count": 33,
     "metadata": {},
     "output_type": "execute_result"
    },
    {
     "data": {
      "image/png": "[encoded data removed]",
      "text/plain": [
       "<Figure size 500x500 with 1 Axes>"
      ]
     },
     "metadata": {},
     "output_type": "display_data"
    }
   ],
   "source": [
    "import matplotlib.pyplot as plt\n",
    "\n",
    "df['sentimen'].value_counts().plot(kind='pie'.format(), figsize=(5, 5), autopct='%1.1f%%', startangle=90)\n",
    "plt.title('Distribusi Sentimen')"
   ]
  },
  {
   "cell_type": "markdown",
   "id": "bd6a9f00",
   "metadata": {},
   "source": [
    "#### 3.2 Data Cleaning"
   ]
  },
  {
   "cell_type": "markdown",
   "id": "41d57b79",
   "metadata": {},
   "source": [
    "- Delete fitur/kolom yang tidak diperlukan"
   ]
  },
  {
   "cell_type": "code",
   "execution_count": 34,
   "id": "9bf972c8",
   "metadata": {},
   "outputs": [
    {
     "data": {
      "text/html": [
       "<div>\n",
       "<style scoped>\n",
       "    .dataframe tbody tr th:only-of-type {\n",
       "        vertical-align: middle;\n",
       "    }\n",
       "\n",
       "    .dataframe tbody tr th {\n",
       "        vertical-align: top;\n",
       "    }\n",
       "\n",
       "    .dataframe thead th {\n",
       "        text-align: right;\n",
       "    }\n",
       "</style>\n",
       "<table border=\"1\" class=\"dataframe\">\n",
       "  <thead>\n",
       "    <tr style=\"text-align: right;\">\n",
       "      <th></th>\n",
       "      <th>sentimen</th>\n",
       "      <th>tweet</th>\n",
       "    </tr>\n",
       "  </thead>\n",
       "  <tbody>\n",
       "    <tr>\n",
       "      <th>0</th>\n",
       "      <td>negatif</td>\n",
       "      <td>Kata @prabowo Indonesia tidak dihargai bangsa ...</td>\n",
       "    </tr>\n",
       "    <tr>\n",
       "      <th>1</th>\n",
       "      <td>netral</td>\n",
       "      <td>Batuan Langka, Tasbih Jokowi Hadiah dari Habib...</td>\n",
       "    </tr>\n",
       "    <tr>\n",
       "      <th>2</th>\n",
       "      <td>netral</td>\n",
       "      <td>Di era Jokowi, ekonomi Indonesia semakin baik....</td>\n",
       "    </tr>\n",
       "    <tr>\n",
       "      <th>3</th>\n",
       "      <td>positif</td>\n",
       "      <td>Bagi Sumatera Selatan, Asian Games berdampak p...</td>\n",
       "    </tr>\n",
       "    <tr>\n",
       "      <th>4</th>\n",
       "      <td>negatif</td>\n",
       "      <td>Negara kita ngutang buat bngun infrastruktur y...</td>\n",
       "    </tr>\n",
       "  </tbody>\n",
       "</table>\n",
       "</div>"
      ],
      "text/plain": [
       "  sentimen                                              tweet\n",
       "0  negatif  Kata @prabowo Indonesia tidak dihargai bangsa ...\n",
       "1   netral  Batuan Langka, Tasbih Jokowi Hadiah dari Habib...\n",
       "2   netral  Di era Jokowi, ekonomi Indonesia semakin baik....\n",
       "3  positif  Bagi Sumatera Selatan, Asian Games berdampak p...\n",
       "4  negatif  Negara kita ngutang buat bngun infrastruktur y..."
      ]
     },
     "execution_count": 34,
     "metadata": {},
     "output_type": "execute_result"
    }
   ],
   "source": [
    "df = df.drop(columns=['Unnamed: 0'])\n",
    "df.head()"
   ]
  },
  {
   "cell_type": "code",
   "execution_count": 35,
   "id": "c582a322",
   "metadata": {},
   "outputs": [
    {
     "name": "stderr",
     "output_type": "stream",
     "text": [
      "[nltk_data] Downloading package punkt to\n",
      "[nltk_data]     C:\\Users\\SUWAAAN\\AppData\\Roaming\\nltk_data...\n",
      "[nltk_data]   Package punkt is already up-to-date!\n",
      "[nltk_data] Downloading package punkt_tab to\n",
      "[nltk_data]     C:\\Users\\SUWAAAN\\AppData\\Roaming\\nltk_data...\n",
      "[nltk_data]   Package punkt_tab is already up-to-date!\n",
      "[nltk_data] Downloading package stopwords to\n",
      "[nltk_data]     C:\\Users\\SUWAAAN\\AppData\\Roaming\\nltk_data...\n",
      "[nltk_data]   Package stopwords is already up-to-date!\n"
     ]
    },
    {
     "data": {
      "text/plain": [
       "True"
      ]
     },
     "execution_count": 35,
     "metadata": {},
     "output_type": "execute_result"
    }
   ],
   "source": [
    "import nltk\n",
    "nltk.download('punkt')  # Untuk tokenisasi\n",
    "nltk.download('punkt_tab')  # Untuk tokenisasi\n",
    "nltk.download('stopwords')   # Untuk stopwords"
   ]
  },
  {
   "cell_type": "markdown",
   "id": "080416d3",
   "metadata": {},
   "source": [
    "#### 3.3 Text Preprocessing"
   ]
  },
  {
   "cell_type": "markdown",
   "id": "5e20700b",
   "metadata": {},
   "source": [
    "- Case Normalization"
   ]
  },
  {
   "cell_type": "code",
   "execution_count": 36,
   "id": "cd5bb250",
   "metadata": {},
   "outputs": [
    {
     "data": {
      "text/html": [
       "<div>\n",
       "<style scoped>\n",
       "    .dataframe tbody tr th:only-of-type {\n",
       "        vertical-align: middle;\n",
       "    }\n",
       "\n",
       "    .dataframe tbody tr th {\n",
       "        vertical-align: top;\n",
       "    }\n",
       "\n",
       "    .dataframe thead th {\n",
       "        text-align: right;\n",
       "    }\n",
       "</style>\n",
       "<table border=\"1\" class=\"dataframe\">\n",
       "  <thead>\n",
       "    <tr style=\"text-align: right;\">\n",
       "      <th></th>\n",
       "      <th>sentimen</th>\n",
       "      <th>tweet</th>\n",
       "    </tr>\n",
       "  </thead>\n",
       "  <tbody>\n",
       "    <tr>\n",
       "      <th>0</th>\n",
       "      <td>negatif</td>\n",
       "      <td>kata @prabowo indonesia tidak dihargai bangsa ...</td>\n",
       "    </tr>\n",
       "    <tr>\n",
       "      <th>1</th>\n",
       "      <td>netral</td>\n",
       "      <td>batuan langka, tasbih jokowi hadiah dari habib...</td>\n",
       "    </tr>\n",
       "    <tr>\n",
       "      <th>2</th>\n",
       "      <td>netral</td>\n",
       "      <td>di era jokowi, ekonomi indonesia semakin baik....</td>\n",
       "    </tr>\n",
       "    <tr>\n",
       "      <th>3</th>\n",
       "      <td>positif</td>\n",
       "      <td>bagi sumatera selatan, asian games berdampak p...</td>\n",
       "    </tr>\n",
       "    <tr>\n",
       "      <th>4</th>\n",
       "      <td>negatif</td>\n",
       "      <td>negara kita ngutang buat bngun infrastruktur y...</td>\n",
       "    </tr>\n",
       "  </tbody>\n",
       "</table>\n",
       "</div>"
      ],
      "text/plain": [
       "  sentimen                                              tweet\n",
       "0  negatif  kata @prabowo indonesia tidak dihargai bangsa ...\n",
       "1   netral  batuan langka, tasbih jokowi hadiah dari habib...\n",
       "2   netral  di era jokowi, ekonomi indonesia semakin baik....\n",
       "3  positif  bagi sumatera selatan, asian games berdampak p...\n",
       "4  negatif  negara kita ngutang buat bngun infrastruktur y..."
      ]
     },
     "execution_count": 36,
     "metadata": {},
     "output_type": "execute_result"
    }
   ],
   "source": [
    "# Ubah semua teks menjadi lowercase\n",
    "df['tweet'] = df['tweet'].str.lower()\n",
    "df.head()"
   ]
  },
  {
   "cell_type": "markdown",
   "id": "3f541fa2",
   "metadata": {},
   "source": [
    "- Word Tokenization"
   ]
  },
  {
   "cell_type": "code",
   "execution_count": 37,
   "id": "7fdcbf76",
   "metadata": {},
   "outputs": [
    {
     "name": "stdout",
     "output_type": "stream",
     "text": [
      "0    [kata, @, prabowo, indonesia, tidak, dihargai,...\n",
      "1    [batuan, langka, ,, tasbih, jokowi, hadiah, da...\n",
      "2    [di, era, jokowi, ,, ekonomi, indonesia, semak...\n",
      "3    [bagi, sumatera, selatan, ,, asian, games, ber...\n",
      "4    [negara, kita, ngutang, buat, bngun, infrastru...\n",
      "Name: tweet_tokenized, dtype: object\n"
     ]
    }
   ],
   "source": [
    "from nltk.tokenize import word_tokenize\n",
    "\n",
    "df['tweet_tokenized'] = df['tweet'].apply(word_tokenize)\n",
    "print(df['tweet_tokenized'].head())"
   ]
  },
  {
   "cell_type": "markdown",
   "id": "c9fcadbf",
   "metadata": {},
   "source": [
    "- Stopwords (NLTK)"
   ]
  },
  {
   "cell_type": "code",
   "execution_count": 38,
   "id": "b8111785",
   "metadata": {},
   "outputs": [
    {
     "name": "stdout",
     "output_type": "stream",
     "text": [
      "0    [@, prabowo, indonesia, dihargai, bangsa, asin...\n",
      "1    [batuan, langka, ,, tasbih, jokowi, hadiah, ha...\n",
      "2    [era, jokowi, ,, ekonomi, indonesia, ., #, 01i...\n",
      "3    [sumatera, selatan, ,, asian, games, berdampak...\n",
      "4    [negara, ngutang, bngun, infrastruktur, udah, ...\n",
      "Name: tweet_no_stopwords, dtype: object\n"
     ]
    }
   ],
   "source": [
    "from nltk.corpus import stopwords\n",
    "stop_words = set(stopwords.words('indonesian'))\n",
    "df['tweet_no_stopwords'] = df['tweet_tokenized'].apply(lambda x: [word for word in x if word not in stop_words])\n",
    "print(df['tweet_no_stopwords'].head())"
   ]
  },
  {
   "cell_type": "markdown",
   "id": "fef32272",
   "metadata": {},
   "source": [
    "- Stemming (<strong>Sastrawi</strong>)"
   ]
  },
  {
   "cell_type": "code",
   "execution_count": 39,
   "id": "5b3ec8b0",
   "metadata": {},
   "outputs": [
    {
     "name": "stdout",
     "output_type": "stream",
     "text": [
      "0    [, prabowo, indonesia, harga, bangsa, asing, ,...\n",
      "1    [batu, langka, , tasbih, jokowi, hadiah, habib...\n",
      "2    [era, jokowi, , ekonomi, indonesia, , , 01indo...\n",
      "3    [sumatera, selatan, , asi, games, dampak, pd, ...\n",
      "4    [negara, ngutang, bngun, infrastruktur, udah, ...\n",
      "Name: tweet_stemmed, dtype: object\n"
     ]
    }
   ],
   "source": [
    "from Sastrawi.Stemmer.StemmerFactory import StemmerFactory\n",
    "\n",
    "factory = StemmerFactory()\n",
    "stemmer = factory.create_stemmer()\n",
    "df['tweet_stemmed'] = df['tweet_no_stopwords'].apply(lambda x: [stemmer.stem(word) for word in x])\n",
    "print(df['tweet_stemmed'].head())"
   ]
  },
  {
   "cell_type": "code",
   "execution_count": 40,
   "id": "3bb8497e",
   "metadata": {},
   "outputs": [
    {
     "name": "stdout",
     "output_type": "stream",
     "text": [
      "0     prabowo indonesia harga bangsa asing  berita ...\n",
      "1    batu langka  tasbih jokowi hadiah habib luthfi...\n",
      "2    era jokowi  ekonomi indonesia   01indonesiamaj...\n",
      "3    sumatera selatan  asi games dampak pd ekonomi ...\n",
      "4    negara ngutang bngun infrastruktur udah dipake...\n",
      "Name: tweet_process, dtype: object\n"
     ]
    }
   ],
   "source": [
    "df['tweet_process'] = df['tweet_stemmed'].apply(lambda x: ' '.join(x))\n",
    "print(df['tweet_process'].head())"
   ]
  },
  {
   "cell_type": "markdown",
   "id": "d89c6db1",
   "metadata": {},
   "source": [
    "- Regex Tokenization"
   ]
  },
  {
   "cell_type": "code",
   "execution_count": 42,
   "id": "4ac2f9f3",
   "metadata": {},
   "outputs": [
    {
     "data": {
      "text/html": [
       "<div>\n",
       "<style scoped>\n",
       "    .dataframe tbody tr th:only-of-type {\n",
       "        vertical-align: middle;\n",
       "    }\n",
       "\n",
       "    .dataframe tbody tr th {\n",
       "        vertical-align: top;\n",
       "    }\n",
       "\n",
       "    .dataframe thead th {\n",
       "        text-align: right;\n",
       "    }\n",
       "</style>\n",
       "<table border=\"1\" class=\"dataframe\">\n",
       "  <thead>\n",
       "    <tr style=\"text-align: right;\">\n",
       "      <th></th>\n",
       "      <th>sentimen</th>\n",
       "      <th>tweet</th>\n",
       "      <th>tweet_tokenized</th>\n",
       "      <th>tweet_no_stopwords</th>\n",
       "      <th>tweet_stemmed</th>\n",
       "      <th>tweet_process</th>\n",
       "    </tr>\n",
       "  </thead>\n",
       "  <tbody>\n",
       "    <tr>\n",
       "      <th>0</th>\n",
       "      <td>negatif</td>\n",
       "      <td>kata  indonesia tidak dihargai bangsa asing   ...</td>\n",
       "      <td>[kata, @, prabowo, indonesia, tidak, dihargai,...</td>\n",
       "      <td>[@, prabowo, indonesia, dihargai, bangsa, asin...</td>\n",
       "      <td>[, prabowo, indonesia, harga, bangsa, asing, ,...</td>\n",
       "      <td>prabowo indonesia harga bangsa asing  berita ...</td>\n",
       "    </tr>\n",
       "    <tr>\n",
       "      <th>1</th>\n",
       "      <td>netral</td>\n",
       "      <td>batuan langka tasbih jokowi hadiah dari habib ...</td>\n",
       "      <td>[batuan, langka, ,, tasbih, jokowi, hadiah, da...</td>\n",
       "      <td>[batuan, langka, ,, tasbih, jokowi, hadiah, ha...</td>\n",
       "      <td>[batu, langka, , tasbih, jokowi, hadiah, habib...</td>\n",
       "      <td>batu langka  tasbih jokowi hadiah habib luthfi...</td>\n",
       "    </tr>\n",
       "    <tr>\n",
       "      <th>2</th>\n",
       "      <td>netral</td>\n",
       "      <td>di era jokowi ekonomi indonesia semakin baik i...</td>\n",
       "      <td>[di, era, jokowi, ,, ekonomi, indonesia, semak...</td>\n",
       "      <td>[era, jokowi, ,, ekonomi, indonesia, ., #, 01i...</td>\n",
       "      <td>[era, jokowi, , ekonomi, indonesia, , , 01indo...</td>\n",
       "      <td>era jokowi  ekonomi indonesia   01indonesiamaj...</td>\n",
       "    </tr>\n",
       "    <tr>\n",
       "      <th>3</th>\n",
       "      <td>positif</td>\n",
       "      <td>bagi sumatera selatan asian games berdampak pd...</td>\n",
       "      <td>[bagi, sumatera, selatan, ,, asian, games, ber...</td>\n",
       "      <td>[sumatera, selatan, ,, asian, games, berdampak...</td>\n",
       "      <td>[sumatera, selatan, , asi, games, dampak, pd, ...</td>\n",
       "      <td>sumatera selatan  asi games dampak pd ekonomi ...</td>\n",
       "    </tr>\n",
       "    <tr>\n",
       "      <th>4</th>\n",
       "      <td>negatif</td>\n",
       "      <td>negara kita ngutang buat bngun infrastruktur y...</td>\n",
       "      <td>[negara, kita, ngutang, buat, bngun, infrastru...</td>\n",
       "      <td>[negara, ngutang, bngun, infrastruktur, udah, ...</td>\n",
       "      <td>[negara, ngutang, bngun, infrastruktur, udah, ...</td>\n",
       "      <td>negara ngutang bngun infrastruktur udah dipake...</td>\n",
       "    </tr>\n",
       "    <tr>\n",
       "      <th>5</th>\n",
       "      <td>netral</td>\n",
       "      <td>yg bisikin pak jokowi cm mikirin perputaran du...</td>\n",
       "      <td>[yg, bisikin, pak, jokowi, ,, cm, mikirin, per...</td>\n",
       "      <td>[yg, bisikin, jokowi, ,, cm, mikirin, perputar...</td>\n",
       "      <td>[yg, bisikin, jokowi, , cm, mikirin, putar, du...</td>\n",
       "      <td>yg bisikin jokowi  cm mikirin putar duit golon...</td>\n",
       "    </tr>\n",
       "    <tr>\n",
       "      <th>6</th>\n",
       "      <td>positif</td>\n",
       "      <td>masa tenang msih ngoceh ajattp jokowi harga mati</td>\n",
       "      <td>[masa, tenang, msih, ngoceh, aja, .., ttp, jok...</td>\n",
       "      <td>[tenang, msih, ngoceh, aja, .., ttp, jokowi, h...</td>\n",
       "      <td>[tenang, msih, ngoceh, aja, , ttp, jokowi, har...</td>\n",
       "      <td>tenang msih ngoceh aja  ttp jokowi harga mati</td>\n",
       "    </tr>\n",
       "    <tr>\n",
       "      <th>7</th>\n",
       "      <td>positif</td>\n",
       "      <td>uasdifitnahkejibalasditps   kerjasa ekonomi bi...</td>\n",
       "      <td>[#, uasdifitnahkejibalasditps, kerjasa, ekonom...</td>\n",
       "      <td>[#, uasdifitnahkejibalasditps, kerjasa, ekonom...</td>\n",
       "      <td>[, uasdifitnahkejibalasditps, kerjasa, ekonomi...</td>\n",
       "      <td>uasdifitnahkejibalasditps kerjasa ekonomi bil...</td>\n",
       "    </tr>\n",
       "    <tr>\n",
       "      <th>8</th>\n",
       "      <td>netral</td>\n",
       "      <td>iya bener aa kita mantap kan pilihan ke pemimp...</td>\n",
       "      <td>[iya, bener, aa, ,, kita, mantap, kan, pilihan...</td>\n",
       "      <td>[iya, bener, aa, ,, mantap, pilihan, pemimpin,...</td>\n",
       "      <td>[iya, bener, aa, , mantap, pilih, pimpin, yg, ...</td>\n",
       "      <td>iya bener aa  mantap pilih pimpin yg bs solusi...</td>\n",
       "    </tr>\n",
       "    <tr>\n",
       "      <th>9</th>\n",
       "      <td>negatif</td>\n",
       "      <td>prabowosandi sepakat tak ambil gaji karena neg...</td>\n",
       "      <td>[prabowo-sandi, sepakat, tak, ambil, gaji, kar...</td>\n",
       "      <td>[prabowo-sandi, sepakat, ambil, gaji, negara, ...</td>\n",
       "      <td>[prabowo-sandi, sepakat, ambil, gaji, negara, ...</td>\n",
       "      <td>prabowo-sandi sepakat ambil gaji negara susah ...</td>\n",
       "    </tr>\n",
       "  </tbody>\n",
       "</table>\n",
       "</div>"
      ],
      "text/plain": [
       "  sentimen                                              tweet  \\\n",
       "0  negatif  kata  indonesia tidak dihargai bangsa asing   ...   \n",
       "1   netral  batuan langka tasbih jokowi hadiah dari habib ...   \n",
       "2   netral  di era jokowi ekonomi indonesia semakin baik i...   \n",
       "3  positif  bagi sumatera selatan asian games berdampak pd...   \n",
       "4  negatif  negara kita ngutang buat bngun infrastruktur y...   \n",
       "5   netral  yg bisikin pak jokowi cm mikirin perputaran du...   \n",
       "6  positif   masa tenang msih ngoceh ajattp jokowi harga mati   \n",
       "7  positif  uasdifitnahkejibalasditps   kerjasa ekonomi bi...   \n",
       "8   netral  iya bener aa kita mantap kan pilihan ke pemimp...   \n",
       "9  negatif  prabowosandi sepakat tak ambil gaji karena neg...   \n",
       "\n",
       "                                     tweet_tokenized  \\\n",
       "0  [kata, @, prabowo, indonesia, tidak, dihargai,...   \n",
       "1  [batuan, langka, ,, tasbih, jokowi, hadiah, da...   \n",
       "2  [di, era, jokowi, ,, ekonomi, indonesia, semak...   \n",
       "3  [bagi, sumatera, selatan, ,, asian, games, ber...   \n",
       "4  [negara, kita, ngutang, buat, bngun, infrastru...   \n",
       "5  [yg, bisikin, pak, jokowi, ,, cm, mikirin, per...   \n",
       "6  [masa, tenang, msih, ngoceh, aja, .., ttp, jok...   \n",
       "7  [#, uasdifitnahkejibalasditps, kerjasa, ekonom...   \n",
       "8  [iya, bener, aa, ,, kita, mantap, kan, pilihan...   \n",
       "9  [prabowo-sandi, sepakat, tak, ambil, gaji, kar...   \n",
       "\n",
       "                                  tweet_no_stopwords  \\\n",
       "0  [@, prabowo, indonesia, dihargai, bangsa, asin...   \n",
       "1  [batuan, langka, ,, tasbih, jokowi, hadiah, ha...   \n",
       "2  [era, jokowi, ,, ekonomi, indonesia, ., #, 01i...   \n",
       "3  [sumatera, selatan, ,, asian, games, berdampak...   \n",
       "4  [negara, ngutang, bngun, infrastruktur, udah, ...   \n",
       "5  [yg, bisikin, jokowi, ,, cm, mikirin, perputar...   \n",
       "6  [tenang, msih, ngoceh, aja, .., ttp, jokowi, h...   \n",
       "7  [#, uasdifitnahkejibalasditps, kerjasa, ekonom...   \n",
       "8  [iya, bener, aa, ,, mantap, pilihan, pemimpin,...   \n",
       "9  [prabowo-sandi, sepakat, ambil, gaji, negara, ...   \n",
       "\n",
       "                                       tweet_stemmed  \\\n",
       "0  [, prabowo, indonesia, harga, bangsa, asing, ,...   \n",
       "1  [batu, langka, , tasbih, jokowi, hadiah, habib...   \n",
       "2  [era, jokowi, , ekonomi, indonesia, , , 01indo...   \n",
       "3  [sumatera, selatan, , asi, games, dampak, pd, ...   \n",
       "4  [negara, ngutang, bngun, infrastruktur, udah, ...   \n",
       "5  [yg, bisikin, jokowi, , cm, mikirin, putar, du...   \n",
       "6  [tenang, msih, ngoceh, aja, , ttp, jokowi, har...   \n",
       "7  [, uasdifitnahkejibalasditps, kerjasa, ekonomi...   \n",
       "8  [iya, bener, aa, , mantap, pilih, pimpin, yg, ...   \n",
       "9  [prabowo-sandi, sepakat, ambil, gaji, negara, ...   \n",
       "\n",
       "                                       tweet_process  \n",
       "0   prabowo indonesia harga bangsa asing  berita ...  \n",
       "1  batu langka  tasbih jokowi hadiah habib luthfi...  \n",
       "2  era jokowi  ekonomi indonesia   01indonesiamaj...  \n",
       "3  sumatera selatan  asi games dampak pd ekonomi ...  \n",
       "4  negara ngutang bngun infrastruktur udah dipake...  \n",
       "5  yg bisikin jokowi  cm mikirin putar duit golon...  \n",
       "6     tenang msih ngoceh aja  ttp jokowi harga mati   \n",
       "7   uasdifitnahkejibalasditps kerjasa ekonomi bil...  \n",
       "8  iya bener aa  mantap pilih pimpin yg bs solusi...  \n",
       "9  prabowo-sandi sepakat ambil gaji negara susah ...  "
      ]
     },
     "execution_count": 42,
     "metadata": {},
     "output_type": "execute_result"
    }
   ],
   "source": [
    "import re\n",
    "def clean_text(text):\n",
    "    text = re.sub(r'http\\S+|www\\S+|https\\S+', '', text)  # Hapus URL\n",
    "    text = re.sub(r'@\\w+', '', text)  # Hapus Mention\n",
    "    text = re.sub(r'[^\\w\\s]', '', text)   # Hapus Karakter Khusus\n",
    "    text = re.sub(r'\\d+', '', text)   # Hapus Angka\n",
    "    return text\n",
    "df['tweet'] = df['tweet'].apply(clean_text)\n",
    "df.head(10)"
   ]
  },
  {
   "cell_type": "markdown",
   "id": "1a119283",
   "metadata": {},
   "source": [
    "- Text Vectorization"
   ]
  },
  {
   "cell_type": "code",
   "execution_count": 43,
   "id": "f3e8e276",
   "metadata": {},
   "outputs": [
    {
     "name": "stdout",
     "output_type": "stream",
     "text": [
      "Shape TF-IDF:  (1815, 6417)\n"
     ]
    }
   ],
   "source": [
    "from sklearn.feature_extraction.text import TfidfVectorizer\n",
    "tfidf = TfidfVectorizer()\n",
    "X = tfidf.fit_transform(df['tweet_process'])\n",
    "print('Shape TF-IDF: ', X.shape)"
   ]
  },
  {
   "cell_type": "code",
   "execution_count": null,
   "id": "2c18f57b",
   "metadata": {},
   "outputs": [
    {
     "name": "stdout",
     "output_type": "stream",
     "text": [
      "                                               tweet  \\\n",
      "0  kata  indonesia tidak dihargai bangsa asing   ...   \n",
      "1  batuan langka tasbih jokowi hadiah dari habib ...   \n",
      "2  di era jokowi ekonomi indonesia semakin baik i...   \n",
      "3  bagi sumatera selatan asian games berdampak pd...   \n",
      "4  negara kita ngutang buat bngun infrastruktur y...   \n",
      "5  yg bisikin pak jokowi cm mikirin perputaran du...   \n",
      "6   masa tenang msih ngoceh ajattp jokowi harga mati   \n",
      "7  uasdifitnahkejibalasditps   kerjasa ekonomi bi...   \n",
      "8  iya bener aa kita mantap kan pilihan ke pemimp...   \n",
      "9  prabowosandi sepakat tak ambil gaji karena neg...   \n",
      "\n",
      "                                       tweet_process  \n",
      "0   prabowo indonesia harga bangsa asing  berita ...  \n",
      "1  batu langka  tasbih jokowi hadiah habib luthfi...  \n",
      "2  era jokowi  ekonomi indonesia   01indonesiamaj...  \n",
      "3  sumatera selatan  asi games dampak pd ekonomi ...  \n",
      "4  negara ngutang bngun infrastruktur udah dipake...  \n",
      "5  yg bisikin jokowi  cm mikirin putar duit golon...  \n",
      "6     tenang msih ngoceh aja  ttp jokowi harga mati   \n",
      "7   uasdifitnahkejibalasditps kerjasa ekonomi bil...  \n",
      "8  iya bener aa  mantap pilih pimpin yg bs solusi...  \n",
      "9  prabowo-sandi sepakat ambil gaji negara susah ...  \n"
     ]
    }
   ],
   "source": [
    "# Cek hasil TF-IDF\n",
    "print(df[['tweet', 'tweet_process']].head(10))"
   ]
  },
  {
   "cell_type": "code",
   "execution_count": null,
   "id": "bec8f300",
   "metadata": {},
   "outputs": [
    {
     "name": "stdout",
     "output_type": "stream",
     "text": [
      "sentimen\n",
      "positif    612\n",
      "netral     607\n",
      "negatif    596\n",
      "Name: count, dtype: int64\n"
     ]
    }
   ],
   "source": [
    "# Cek distribusi sentimen\n",
    "print(df['sentimen'].value_counts())"
   ]
  },
  {
   "cell_type": "code",
   "execution_count": 47,
   "id": "f50eec8e",
   "metadata": {},
   "outputs": [
    {
     "name": "stdout",
     "output_type": "stream",
     "text": [
      "Data disimpan ke \"tweet_preprocess_tfidf.csv\"\n"
     ]
    }
   ],
   "source": [
    "# Save hasil proses \n",
    "df.to_csv('tweet_preprocess_tfidf.csv', index=False)\n",
    "print('Data disimpan ke \"tweet_preprocess_tfidf.csv\"')"
   ]
  },
  {
   "cell_type": "markdown",
   "id": "20472ca7",
   "metadata": {},
   "source": [
    "<br><br>"
   ]
  },
  {
   "cell_type": "markdown",
   "id": "d94a63f9",
   "metadata": {},
   "source": []
  }
 ],
 "metadata": {
  "kernelspec": {
   "display_name": "base",
   "language": "python",
   "name": "python3"
  },
  "language_info": {
   "codemirror_mode": {
    "name": "ipython",
    "version": 3
   },
   "file_extension": ".py",
   "mimetype": "text/x-python",
   "name": "python",
   "nbconvert_exporter": "python",
   "pygments_lexer": "ipython3",
   "version": "3.12.7"
  }
 },
 "nbformat": 4,
 "nbformat_minor": 5
}
