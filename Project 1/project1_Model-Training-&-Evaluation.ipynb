{
 "cells": [
  {
   "cell_type": "markdown",
   "id": "9a4c6085",
   "metadata": {},
   "source": [
    "# Sentiment Analysis Poltik Indonesia"
   ]
  },
  {
   "cell_type": "markdown",
   "id": "ed386f2b",
   "metadata": {},
   "source": [
    "# Model Training & Evaluation\n",
    "Model yang digunakan untuk training dataset hasil dari TF-IDF adalah traditional mechine learning <br>\n",
    "karena dataset yang dimiliki relatif kecil"
   ]
  },
  {
   "cell_type": "code",
   "execution_count": 9,
   "id": "feb3669d",
   "metadata": {},
   "outputs": [
    {
     "data": {
      "text/html": [
       "<div>\n",
       "<style scoped>\n",
       "    .dataframe tbody tr th:only-of-type {\n",
       "        vertical-align: middle;\n",
       "    }\n",
       "\n",
       "    .dataframe tbody tr th {\n",
       "        vertical-align: top;\n",
       "    }\n",
       "\n",
       "    .dataframe thead th {\n",
       "        text-align: right;\n",
       "    }\n",
       "</style>\n",
       "<table border=\"1\" class=\"dataframe\">\n",
       "  <thead>\n",
       "    <tr style=\"text-align: right;\">\n",
       "      <th></th>\n",
       "      <th>sentimen</th>\n",
       "      <th>tweet</th>\n",
       "      <th>tweet_tokenized</th>\n",
       "      <th>tweet_no_stopwords</th>\n",
       "      <th>tweet_stemmed</th>\n",
       "      <th>tweet_process</th>\n",
       "    </tr>\n",
       "  </thead>\n",
       "  <tbody>\n",
       "    <tr>\n",
       "      <th>0</th>\n",
       "      <td>negatif</td>\n",
       "      <td>kata  indonesia tidak dihargai bangsa asing   ...</td>\n",
       "      <td>['kata', '@', 'prabowo', 'indonesia', 'tidak',...</td>\n",
       "      <td>['@', 'prabowo', 'indonesia', 'dihargai', 'ban...</td>\n",
       "      <td>['', 'prabowo', 'indonesia', 'harga', 'bangsa'...</td>\n",
       "      <td>prabowo indonesia harga bangsa asing  berita ...</td>\n",
       "    </tr>\n",
       "    <tr>\n",
       "      <th>1</th>\n",
       "      <td>netral</td>\n",
       "      <td>batuan langka tasbih jokowi hadiah dari habib ...</td>\n",
       "      <td>['batuan', 'langka', ',', 'tasbih', 'jokowi', ...</td>\n",
       "      <td>['batuan', 'langka', ',', 'tasbih', 'jokowi', ...</td>\n",
       "      <td>['batu', 'langka', '', 'tasbih', 'jokowi', 'ha...</td>\n",
       "      <td>batu langka  tasbih jokowi hadiah habib luthfi...</td>\n",
       "    </tr>\n",
       "    <tr>\n",
       "      <th>2</th>\n",
       "      <td>netral</td>\n",
       "      <td>di era jokowi ekonomi indonesia semakin baik i...</td>\n",
       "      <td>['di', 'era', 'jokowi', ',', 'ekonomi', 'indon...</td>\n",
       "      <td>['era', 'jokowi', ',', 'ekonomi', 'indonesia',...</td>\n",
       "      <td>['era', 'jokowi', '', 'ekonomi', 'indonesia', ...</td>\n",
       "      <td>era jokowi  ekonomi indonesia   01indonesiamaj...</td>\n",
       "    </tr>\n",
       "    <tr>\n",
       "      <th>3</th>\n",
       "      <td>positif</td>\n",
       "      <td>bagi sumatera selatan asian games berdampak pd...</td>\n",
       "      <td>['bagi', 'sumatera', 'selatan', ',', 'asian', ...</td>\n",
       "      <td>['sumatera', 'selatan', ',', 'asian', 'games',...</td>\n",
       "      <td>['sumatera', 'selatan', '', 'asi', 'games', 'd...</td>\n",
       "      <td>sumatera selatan  asi games dampak pd ekonomi ...</td>\n",
       "    </tr>\n",
       "    <tr>\n",
       "      <th>4</th>\n",
       "      <td>negatif</td>\n",
       "      <td>negara kita ngutang buat bngun infrastruktur y...</td>\n",
       "      <td>['negara', 'kita', 'ngutang', 'buat', 'bngun',...</td>\n",
       "      <td>['negara', 'ngutang', 'bngun', 'infrastruktur'...</td>\n",
       "      <td>['negara', 'ngutang', 'bngun', 'infrastruktur'...</td>\n",
       "      <td>negara ngutang bngun infrastruktur udah dipake...</td>\n",
       "    </tr>\n",
       "  </tbody>\n",
       "</table>\n",
       "</div>"
      ],
      "text/plain": [
       "  sentimen                                              tweet  \\\n",
       "0  negatif  kata  indonesia tidak dihargai bangsa asing   ...   \n",
       "1   netral  batuan langka tasbih jokowi hadiah dari habib ...   \n",
       "2   netral  di era jokowi ekonomi indonesia semakin baik i...   \n",
       "3  positif  bagi sumatera selatan asian games berdampak pd...   \n",
       "4  negatif  negara kita ngutang buat bngun infrastruktur y...   \n",
       "\n",
       "                                     tweet_tokenized  \\\n",
       "0  ['kata', '@', 'prabowo', 'indonesia', 'tidak',...   \n",
       "1  ['batuan', 'langka', ',', 'tasbih', 'jokowi', ...   \n",
       "2  ['di', 'era', 'jokowi', ',', 'ekonomi', 'indon...   \n",
       "3  ['bagi', 'sumatera', 'selatan', ',', 'asian', ...   \n",
       "4  ['negara', 'kita', 'ngutang', 'buat', 'bngun',...   \n",
       "\n",
       "                                  tweet_no_stopwords  \\\n",
       "0  ['@', 'prabowo', 'indonesia', 'dihargai', 'ban...   \n",
       "1  ['batuan', 'langka', ',', 'tasbih', 'jokowi', ...   \n",
       "2  ['era', 'jokowi', ',', 'ekonomi', 'indonesia',...   \n",
       "3  ['sumatera', 'selatan', ',', 'asian', 'games',...   \n",
       "4  ['negara', 'ngutang', 'bngun', 'infrastruktur'...   \n",
       "\n",
       "                                       tweet_stemmed  \\\n",
       "0  ['', 'prabowo', 'indonesia', 'harga', 'bangsa'...   \n",
       "1  ['batu', 'langka', '', 'tasbih', 'jokowi', 'ha...   \n",
       "2  ['era', 'jokowi', '', 'ekonomi', 'indonesia', ...   \n",
       "3  ['sumatera', 'selatan', '', 'asi', 'games', 'd...   \n",
       "4  ['negara', 'ngutang', 'bngun', 'infrastruktur'...   \n",
       "\n",
       "                                       tweet_process  \n",
       "0   prabowo indonesia harga bangsa asing  berita ...  \n",
       "1  batu langka  tasbih jokowi hadiah habib luthfi...  \n",
       "2  era jokowi  ekonomi indonesia   01indonesiamaj...  \n",
       "3  sumatera selatan  asi games dampak pd ekonomi ...  \n",
       "4  negara ngutang bngun infrastruktur udah dipake...  "
      ]
     },
     "execution_count": 9,
     "metadata": {},
     "output_type": "execute_result"
    }
   ],
   "source": [
    "# Load Dataset\n",
    "import pandas as pd\n",
    "from sklearn.feature_extraction.text import TfidfVectorizer\n",
    "\n",
    "df = pd.read_csv('./tweet_preprocess_tfidf.csv')\n",
    "df.head()"
   ]
  },
  {
   "cell_type": "code",
   "execution_count": 11,
   "id": "24ae9c56",
   "metadata": {},
   "outputs": [
    {
     "name": "stdout",
     "output_type": "stream",
     "text": [
      "Shape TF-IDF matrix: (1815, 5000)\n"
     ]
    }
   ],
   "source": [
    "# Buat variabel label fitur dan target\n",
    "X_text = df['tweet_process'].fillna('')\n",
    "y = df['sentimen']\n",
    "\n",
    "vectorizer = TfidfVectorizer(max_features=5000)\n",
    "X = vectorizer.fit_transform(X_text)\n",
    "print('Shape TF-IDF matrix:', X.shape)"
   ]
  },
  {
   "cell_type": "code",
   "execution_count": 13,
   "id": "a259486f",
   "metadata": {},
   "outputs": [
    {
     "name": "stdout",
     "output_type": "stream",
     "text": [
      "Jumlah data train :  1452\n",
      "Jumlah data test :  363\n"
     ]
    }
   ],
   "source": [
    "# Split data\n",
    "from sklearn.model_selection import train_test_split\n",
    "X_train, X_test, y_train, y_test = train_test_split(X, y, test_size=0.2, random_state=1)\n",
    "print('Jumlah data train : ', X_train.shape[0])\n",
    "print('Jumlah data test : ', X_test.shape[0])"
   ]
  },
  {
   "cell_type": "code",
   "execution_count": null,
   "id": "6b26162d",
   "metadata": {},
   "outputs": [],
   "source": []
  }
 ],
 "metadata": {
  "kernelspec": {
   "display_name": "base",
   "language": "python",
   "name": "python3"
  },
  "language_info": {
   "codemirror_mode": {
    "name": "ipython",
    "version": 3
   },
   "file_extension": ".py",
   "mimetype": "text/x-python",
   "name": "python",
   "nbconvert_exporter": "python",
   "pygments_lexer": "ipython3",
   "version": "3.12.7"
  }
 },
 "nbformat": 4,
 "nbformat_minor": 5
}
