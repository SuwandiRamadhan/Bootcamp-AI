{
 "cells": [
  {
   "cell_type": "markdown",
   "id": "dfa497c5",
   "metadata": {},
   "source": [
    "# Sentiment Analysis Poltik Indonesia"
   ]
  },
  {
   "cell_type": "markdown",
   "id": "f8072d7b",
   "metadata": {},
   "source": [
    "## 1. Data Understanding"
   ]
  },
  {
   "cell_type": "markdown",
   "id": "1c8bdae7",
   "metadata": {},
   "source": [
    "- **Sumber Dataset** : https://drive.google.com/file/d/1XEsFtXjyhKe-q3Muey-NxeSvoavuwj3B/view?usp=drive_link\n",
    "- **Ukuran Dataset** : \n",
    "- **Fitur/Variabel** :\n",
    "  <ul>\n",
    "  <li>`Unnamed` : Kolom indeks (tidak relevan dengan analysis)</li>\n",
    "  <li>`Sentimen` :</li>\n",
    "  <li>`Tweet`    :</li>\n",
    "  <li>Fourth item</li>\n",
    "</ul>"
   ]
  },
  {
   "cell_type": "markdown",
   "id": "6c520f68",
   "metadata": {},
   "source": []
  }
 ],
 "metadata": {
  "kernelspec": {
   "display_name": "base",
   "language": "python",
   "name": "python3"
  },
  "language_info": {
   "name": "python",
   "version": "3.12.7"
  }
 },
 "nbformat": 4,
 "nbformat_minor": 5
}
